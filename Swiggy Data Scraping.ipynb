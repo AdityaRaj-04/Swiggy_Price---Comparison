{
 "cells": [
  {
   "cell_type": "markdown",
   "metadata": {},
   "source": [
    "# Importing libraries"
   ]
  },
  {
   "cell_type": "code",
   "execution_count": 17,
   "metadata": {},
   "outputs": [],
   "source": [
    "import selenium\n",
    "from selenium import webdriver\n",
    "from selenium.webdriver.chrome.service import service #used to manage the lifecycle of the ChromeDriver service.\n",
    "from selenium.webdriver.common.by import By\n",
    "from selenium.webdriver.support import expected_conditions as EC\n",
    "import requests\n",
    "from selenium.webdriver.support.ui import WebDriverWait\n",
    "import time\n",
    "from selenium.webdriver.common.keys import Keys\n",
    "import warnings\n",
    "warnings.filterwarnings('ignore')\n",
    "import csv\n",
    "from selenium.webdriver.chrome.options import Options\n",
    "import pandas as pd\n",
    "import numpy as np"
   ]
  },
  {
   "cell_type": "markdown",
   "metadata": {},
   "source": [
    "# Initialize WebDriver"
   ]
  },
  {
   "cell_type": "code",
   "execution_count": 5,
   "metadata": {},
   "outputs": [],
   "source": [
    "driver = webdriver.Chrome()"
   ]
  },
  {
   "cell_type": "markdown",
   "metadata": {},
   "source": [
    "# Get Url"
   ]
  },
  {
   "cell_type": "code",
   "execution_count": 6,
   "metadata": {},
   "outputs": [],
   "source": [
    "url = \"https://www.swiggy.com/city/patna\""
   ]
  },
  {
   "cell_type": "code",
   "execution_count": 7,
   "metadata": {},
   "outputs": [],
   "source": [
    "driver.get(url)"
   ]
  },
  {
   "cell_type": "markdown",
   "metadata": {},
   "source": [
    "# Wait for the page to load"
   ]
  },
  {
   "cell_type": "code",
   "execution_count": 8,
   "metadata": {},
   "outputs": [
    {
     "data": {
      "text/plain": [
       "[<selenium.webdriver.remote.webelement.WebElement (session=\"b7c1d1e18deef877f2c1f927a2bc278b\", element=\"f.B48D62E8328E1CA051A4510E208421A4.d.FA0D376E12B3BAE07E5461F34A4E0EC9.e.319\")>]"
      ]
     },
     "execution_count": 8,
     "metadata": {},
     "output_type": "execute_result"
    }
   ],
   "source": [
    "WebDriverWait(driver, 10).until(EC.presence_of_all_elements_located((By.TAG_NAME, \"body\")))"
   ]
  },
  {
   "cell_type": "markdown",
   "metadata": {},
   "source": [
    "# Find all restaurant elements"
   ]
  },
  {
   "cell_type": "code",
   "execution_count": 9,
   "metadata": {},
   "outputs": [],
   "source": [
    "restaurants = driver.find_elements(By.CLASS_NAME, \"sc-hhyLtv\")"
   ]
  },
  {
   "cell_type": "markdown",
   "metadata": {},
   "source": [
    "# Initialize empty list to store restaurant data"
   ]
  },
  {
   "cell_type": "code",
   "execution_count": 10,
   "metadata": {},
   "outputs": [],
   "source": [
    "restaurant_data = []"
   ]
  },
  {
   "cell_type": "code",
   "execution_count": 11,
   "metadata": {},
   "outputs": [],
   "source": [
    "for restaurant in restaurants:\n",
    "    try:\n",
    "        # Extract all elements with the shared class\n",
    "        details = restaurant.find_elements(By.CLASS_NAME, \"BEWkR\")\n",
    "\n",
    "        # Logic to differentiate Address & Cuisine\n",
    "        address, cuisine = \"N/A\", \"N/A\"\n",
    "        for detail in details:\n",
    "            text = detail.text.strip()\n",
    "            if \"₹\" in text:  # If it contains ₹, it's likely a price, ignore it\n",
    "                continue\n",
    "            if \",\" in text:  # Addresses usually have commas (e.g., \"Boring Road, Patna\")\n",
    "                address = text\n",
    "            else:  # Otherwise, assume it's Cuisine\n",
    "                cuisine = text\n",
    "\n",
    "        # Extract other details\n",
    "        name = restaurant.find_element(By.CLASS_NAME, \"hxenBp\").text\n",
    "        avg_price = restaurant.find_element(By.CLASS_NAME, \"jCPgxj\").text\n",
    "        rating = restaurant.find_element(By.CLASS_NAME, \"dnBtAy\").text\n",
    "\n",
    "        # Append data to the list\n",
    "        restaurant_data.append({\n",
    "            \"Name\": name,\n",
    "            \"Average Dish Price\": avg_price,\n",
    "            \"Address\": address,\n",
    "            \"Cuisine\": cuisine,\n",
    "            \"Rating\": rating,\n",
    "        })\n",
    "\n",
    "    except Exception as e:\n",
    "        print(f\"Error extracting restaurant data: {e}\")\n",
    "        continue"
   ]
  },
  {
   "cell_type": "markdown",
   "metadata": {},
   "source": [
    "# Close the WebDriver"
   ]
  },
  {
   "cell_type": "code",
   "execution_count": null,
   "metadata": {},
   "outputs": [],
   "source": [
    "driver.quit()"
   ]
  },
  {
   "cell_type": "markdown",
   "metadata": {},
   "source": [
    "# Save data to CSV"
   ]
  },
  {
   "cell_type": "code",
   "execution_count": 13,
   "metadata": {},
   "outputs": [],
   "source": [
    "df = pd.DataFrame(restaurant_data)\n",
    "df.to_csv(\"swiggy_restaurants.csv\", index=False, encoding=\"utf-8\")"
   ]
  },
  {
   "cell_type": "markdown",
   "metadata": {},
   "source": [
    "# Print the DataFrame"
   ]
  },
  {
   "cell_type": "code",
   "execution_count": 14,
   "metadata": {},
   "outputs": [
    {
     "name": "stdout",
     "output_type": "stream",
     "text": [
      "                                   Name Average Dish Price  \\\n",
      "0       The Great Kabab Factory Express      ₹1900 for two   \n",
      "1                        Cilantro India      ₹1200 for two   \n",
      "2                      Paradise Biryani                      \n",
      "3                 Skyline Biryani House       ₹500 for two   \n",
      "4    Ghoomar Tradional Thali Restaurant      ₹1000 for two   \n",
      "..                                  ...                ...   \n",
      "290                       Chicago Pizza                      \n",
      "291                    Young's Hub Cafe       ₹600 for two   \n",
      "292                       Terrace Grill      ₹1000 for two   \n",
      "293                         Food Xpress                      \n",
      "294                          Rock House      ₹1300 for two   \n",
      "\n",
      "                                 Address                      Cuisine Rating  \n",
      "0    Brij Saroj Complex, Khajpura, Patna       Chinese • North Indian    3.9  \n",
      "1                       Shekhpura, Patna        North Indian • Andhra    3.9  \n",
      "2                        Khajpura, Patna       Chinese • North Indian         \n",
      "3                     Bailey Road, Patna       Biryani • North Indian    4.0  \n",
      "4                     Bailey Road, Patna    North Indian • Rajasthani    4.7  \n",
      "..                                   ...                          ...    ...  \n",
      "290                       Ranipur, Patna          Italian • Fast Food         \n",
      "291                     Marufganj, Patna         North Indian • Pasta     --  \n",
      "292             Boring Canal Road, Patna       Italian • North Indian     --  \n",
      "293                    Adalatganj, Patna  North Indian • South Indian         \n",
      "294             Boring Canal Road, Patna       Chinese • North Indian    4.5  \n",
      "\n",
      "[295 rows x 5 columns]\n"
     ]
    }
   ],
   "source": [
    "print(df)"
   ]
  },
  {
   "cell_type": "code",
   "execution_count": 3,
   "metadata": {},
   "outputs": [
    {
     "data": {
      "text/plain": [
       "Name                  14\n",
       "Average Dish Price    14\n",
       "Address               14\n",
       "Cuisine               14\n",
       "Rating                14\n",
       "dtype: int64"
      ]
     },
     "execution_count": 3,
     "metadata": {},
     "output_type": "execute_result"
    }
   ],
   "source": [
    "df.count()"
   ]
  },
  {
   "cell_type": "code",
   "execution_count": 15,
   "metadata": {},
   "outputs": [
    {
     "data": {
      "text/html": [
       "<div>\n",
       "<style scoped>\n",
       "    .dataframe tbody tr th:only-of-type {\n",
       "        vertical-align: middle;\n",
       "    }\n",
       "\n",
       "    .dataframe tbody tr th {\n",
       "        vertical-align: top;\n",
       "    }\n",
       "\n",
       "    .dataframe thead th {\n",
       "        text-align: right;\n",
       "    }\n",
       "</style>\n",
       "<table border=\"1\" class=\"dataframe\">\n",
       "  <thead>\n",
       "    <tr style=\"text-align: right;\">\n",
       "      <th></th>\n",
       "      <th>Name</th>\n",
       "      <th>Average Dish Price</th>\n",
       "      <th>Address</th>\n",
       "      <th>Cuisine</th>\n",
       "      <th>Rating</th>\n",
       "    </tr>\n",
       "  </thead>\n",
       "  <tbody>\n",
       "    <tr>\n",
       "      <th>0</th>\n",
       "      <td>The Great Kabab Factory Express</td>\n",
       "      <td>₹1900 for two</td>\n",
       "      <td>Brij Saroj Complex, Khajpura, Patna</td>\n",
       "      <td>Chinese • North Indian</td>\n",
       "      <td>3.9</td>\n",
       "    </tr>\n",
       "    <tr>\n",
       "      <th>1</th>\n",
       "      <td>Cilantro India</td>\n",
       "      <td>₹1200 for two</td>\n",
       "      <td>Shekhpura, Patna</td>\n",
       "      <td>North Indian • Andhra</td>\n",
       "      <td>3.9</td>\n",
       "    </tr>\n",
       "    <tr>\n",
       "      <th>2</th>\n",
       "      <td>Paradise Biryani</td>\n",
       "      <td></td>\n",
       "      <td>Khajpura, Patna</td>\n",
       "      <td>Chinese • North Indian</td>\n",
       "      <td></td>\n",
       "    </tr>\n",
       "    <tr>\n",
       "      <th>3</th>\n",
       "      <td>Skyline Biryani House</td>\n",
       "      <td>₹500 for two</td>\n",
       "      <td>Bailey Road, Patna</td>\n",
       "      <td>Biryani • North Indian</td>\n",
       "      <td>4.0</td>\n",
       "    </tr>\n",
       "    <tr>\n",
       "      <th>4</th>\n",
       "      <td>Ghoomar Tradional Thali Restaurant</td>\n",
       "      <td>₹1000 for two</td>\n",
       "      <td>Bailey Road, Patna</td>\n",
       "      <td>North Indian • Rajasthani</td>\n",
       "      <td>4.7</td>\n",
       "    </tr>\n",
       "    <tr>\n",
       "      <th>...</th>\n",
       "      <td>...</td>\n",
       "      <td>...</td>\n",
       "      <td>...</td>\n",
       "      <td>...</td>\n",
       "      <td>...</td>\n",
       "    </tr>\n",
       "    <tr>\n",
       "      <th>290</th>\n",
       "      <td>Chicago Pizza</td>\n",
       "      <td></td>\n",
       "      <td>Ranipur, Patna</td>\n",
       "      <td>Italian • Fast Food</td>\n",
       "      <td></td>\n",
       "    </tr>\n",
       "    <tr>\n",
       "      <th>291</th>\n",
       "      <td>Young's Hub Cafe</td>\n",
       "      <td>₹600 for two</td>\n",
       "      <td>Marufganj, Patna</td>\n",
       "      <td>North Indian • Pasta</td>\n",
       "      <td>--</td>\n",
       "    </tr>\n",
       "    <tr>\n",
       "      <th>292</th>\n",
       "      <td>Terrace Grill</td>\n",
       "      <td>₹1000 for two</td>\n",
       "      <td>Boring Canal Road, Patna</td>\n",
       "      <td>Italian • North Indian</td>\n",
       "      <td>--</td>\n",
       "    </tr>\n",
       "    <tr>\n",
       "      <th>293</th>\n",
       "      <td>Food Xpress</td>\n",
       "      <td></td>\n",
       "      <td>Adalatganj, Patna</td>\n",
       "      <td>North Indian • South Indian</td>\n",
       "      <td></td>\n",
       "    </tr>\n",
       "    <tr>\n",
       "      <th>294</th>\n",
       "      <td>Rock House</td>\n",
       "      <td>₹1300 for two</td>\n",
       "      <td>Boring Canal Road, Patna</td>\n",
       "      <td>Chinese • North Indian</td>\n",
       "      <td>4.5</td>\n",
       "    </tr>\n",
       "  </tbody>\n",
       "</table>\n",
       "<p>295 rows × 5 columns</p>\n",
       "</div>"
      ],
      "text/plain": [
       "                                   Name Average Dish Price  \\\n",
       "0       The Great Kabab Factory Express      ₹1900 for two   \n",
       "1                        Cilantro India      ₹1200 for two   \n",
       "2                      Paradise Biryani                      \n",
       "3                 Skyline Biryani House       ₹500 for two   \n",
       "4    Ghoomar Tradional Thali Restaurant      ₹1000 for two   \n",
       "..                                  ...                ...   \n",
       "290                       Chicago Pizza                      \n",
       "291                    Young's Hub Cafe       ₹600 for two   \n",
       "292                       Terrace Grill      ₹1000 for two   \n",
       "293                         Food Xpress                      \n",
       "294                          Rock House      ₹1300 for two   \n",
       "\n",
       "                                 Address                      Cuisine Rating  \n",
       "0    Brij Saroj Complex, Khajpura, Patna       Chinese • North Indian    3.9  \n",
       "1                       Shekhpura, Patna        North Indian • Andhra    3.9  \n",
       "2                        Khajpura, Patna       Chinese • North Indian         \n",
       "3                     Bailey Road, Patna       Biryani • North Indian    4.0  \n",
       "4                     Bailey Road, Patna    North Indian • Rajasthani    4.7  \n",
       "..                                   ...                          ...    ...  \n",
       "290                       Ranipur, Patna          Italian • Fast Food         \n",
       "291                     Marufganj, Patna         North Indian • Pasta     --  \n",
       "292             Boring Canal Road, Patna       Italian • North Indian     --  \n",
       "293                    Adalatganj, Patna  North Indian • South Indian         \n",
       "294             Boring Canal Road, Patna       Chinese • North Indian    4.5  \n",
       "\n",
       "[295 rows x 5 columns]"
      ]
     },
     "execution_count": 15,
     "metadata": {},
     "output_type": "execute_result"
    }
   ],
   "source": [
    "df"
   ]
  },
  {
   "cell_type": "code",
   "execution_count": 23,
   "metadata": {},
   "outputs": [
    {
     "data": {
      "text/plain": [
       "(295, 5)"
      ]
     },
     "execution_count": 23,
     "metadata": {},
     "output_type": "execute_result"
    }
   ],
   "source": [
    "df.shape"
   ]
  },
  {
   "cell_type": "code",
   "execution_count": 19,
   "metadata": {},
   "outputs": [
    {
     "data": {
      "text/plain": [
       "Name                  0\n",
       "Average Dish Price    0\n",
       "Address               0\n",
       "Cuisine               0\n",
       "Rating                0\n",
       "dtype: int64"
      ]
     },
     "execution_count": 19,
     "metadata": {},
     "output_type": "execute_result"
    }
   ],
   "source": [
    "pd.isnull(df).sum()"
   ]
  },
  {
   "cell_type": "code",
   "execution_count": 21,
   "metadata": {},
   "outputs": [
    {
     "name": "stdout",
     "output_type": "stream",
     "text": [
      "<class 'pandas.core.frame.DataFrame'>\n",
      "RangeIndex: 295 entries, 0 to 294\n",
      "Data columns (total 5 columns):\n",
      " #   Column              Non-Null Count  Dtype \n",
      "---  ------              --------------  ----- \n",
      " 0   Name                295 non-null    object\n",
      " 1   Average Dish Price  295 non-null    object\n",
      " 2   Address             295 non-null    object\n",
      " 3   Cuisine             295 non-null    object\n",
      " 4   Rating              295 non-null    object\n",
      "dtypes: object(5)\n",
      "memory usage: 11.7+ KB\n"
     ]
    }
   ],
   "source": [
    "df.info()"
   ]
  },
  {
   "cell_type": "code",
   "execution_count": 26,
   "metadata": {},
   "outputs": [],
   "source": [
    "import mysql.connector"
   ]
  },
  {
   "cell_type": "code",
   "execution_count": 41,
   "metadata": {},
   "outputs": [],
   "source": [
    "conn = mysql.connector.connect(host = \"localhost\",\n",
    "                               user = \"root\",\n",
    "                               password = \"root\",\n",
    "                               database = \"scraping\")\n",
    "                               "
   ]
  },
  {
   "cell_type": "code",
   "execution_count": 42,
   "metadata": {},
   "outputs": [],
   "source": [
    "cursor = conn.cursor()"
   ]
  },
  {
   "cell_type": "code",
   "execution_count": 47,
   "metadata": {},
   "outputs": [],
   "source": [
    "df = df.fillna({'Name': 'Unknown', 'Average Dish Price': '0', 'Address': 'Not Available', 'Cuisine': 'Unknown', 'Rating': 'N/A'})\n"
   ]
  },
  {
   "cell_type": "code",
   "execution_count": 40,
   "metadata": {},
   "outputs": [],
   "source": [
    "# Ensure the database is selected\n",
    "cursor.execute(\"USE scraping;\")  "
   ]
  },
  {
   "cell_type": "code",
   "execution_count": 48,
   "metadata": {},
   "outputs": [],
   "source": [
    "# Replace NaN with empty string\n",
    "df = df.fillna('')  \n",
    "\n",
    "for _, row in df.iterrows():\n",
    "    cursor.execute(\"\"\"\n",
    "        INSERT INTO swiggy (Name, Average_Dish_Price, Address, Cuisine, Rating)\n",
    "        VALUES (%s, %s, %s, %s, %s)\n",
    "    \"\"\", (row[\"Name\"], row[\"Average Dish Price\"], row[\"Address\"], row[\"Cuisine\"], row[\"Rating\"]))\n",
    "\n"
   ]
  },
  {
   "cell_type": "code",
   "execution_count": null,
   "metadata": {},
   "outputs": [],
   "source": [
    " # Ensure changes are saved\n",
    "conn.commit() "
   ]
  },
  {
   "cell_type": "code",
   "execution_count": 52,
   "metadata": {},
   "outputs": [
    {
     "name": "stdout",
     "output_type": "stream",
     "text": [
      "(1, 'The Great Kabab Factory Express', '₹1900 for two', 'Brij Saroj Complex, Khajpura, Patna', 'Chinese • North Indian', '3.9')\n",
      "(2, 'Cilantro India', '₹1200 for two', 'Shekhpura, Patna', 'North Indian • Andhra', '3.9')\n",
      "(3, 'The Great Kabab Factory Express', '₹1900 for two', 'Brij Saroj Complex, Khajpura, Patna', 'Chinese • North Indian', '3.9')\n",
      "(4, 'Cilantro India', '₹1200 for two', 'Shekhpura, Patna', 'North Indian • Andhra', '3.9')\n",
      "(5, 'Paradise Biryani', '', 'Khajpura, Patna', 'Chinese • North Indian', '')\n",
      "(6, 'Skyline Biryani House', '₹500 for two', 'Bailey Road, Patna', 'Biryani • North Indian', '4')\n",
      "(7, 'Ghoomar Tradional Thali Restaurant', '₹1000 for two', 'Bailey Road, Patna', 'North Indian • Rajasthani', '4.7')\n",
      "(8, 'Le Cafe Crush', '', 'Khajpura, Patna', 'Chinese • North Indian', '')\n",
      "(9, 'Kathi Nation', '₹600 for two', 'Khajpura, Patna', 'Mughlai • North Indian', '4.4')\n",
      "(10, 'Wisteria Cafe & Kitchen', '₹1000 for two', 'Shekhpura, Patna', 'North Indian • Chinese', '4.5')\n",
      "(11, 'Milieu Cafe And Kitchen', '', 'Khajpura, Patna', 'Chinese • North Indian', '')\n",
      "(12, 'Mama Sexy', '₹1200 for two', 'R J Complex, Khajpura, Patna', 'Chinese • North Indian', '4.1')\n",
      "(13, 'Platterz - The AVR Hotel', '₹1100 for two', 'Khajpura, Patna', 'North Indian • Chinese', '4.1')\n",
      "(14, 'Latido Hungerhook Plzza', '', 'Shekhpura, Patna', 'Italian • Fast Food', '')\n",
      "(15, 'Melody', '₹900 for two', 'G.M.Complex, Khajpura, Patna', 'Chinese • North Indian', '4.1')\n",
      "(16, 'Rasoi', '₹500 for two', 'Khajpura, Patna', 'Chinese • North Indian', '3.8')\n",
      "(17, 'Suruchi Restaurant-Hotel Krrish', '', 'Khajpura, Patna', 'Mughlai • North Indian', '')\n",
      "(18, 'Polika-Pure Veg Restaurant', '₹600 for two', 'Rukanpura, Patna', 'North Indian • South Indian', '4.7')\n",
      "(19, 'Satvik Pure Veg', '₹600 for two', 'Laddoo Gopal Building, Bailey Road, Patna', 'Chinese • North Indian', '--')\n",
      "(20, 'Patna Ka Zaika', '', 'Kidwaipuri, Patna', 'Chinese • North Indian', '')\n",
      "(21, 'Bistro - Hotel Patliputra Continental', '₹1500 for two', 'Phulwari Sharif, Patna', 'North Indian • Continental', '4.2')\n",
      "(22, 'Grand Tasty Kitchen', '₹600 for two', 'Bailey Road, Patna', 'North Indian • Chinese', '5')\n",
      "(23, 'DC Cafe', '', 'Raj Gopal Enclave, Anisabad, Patna', 'Continental • Fast Food', '')\n",
      "(24, \"Karim's - Original from Jama Masjid Delhi - 6\", '₹700 for two', 'Khajpura, Patna', 'Mughlai • North Indian', '4.2')\n",
      "(25, 'The Chocolate Room', '₹700 for two', 'Rukanpura, Patna', 'Beverages • Desserts', '4.4')\n",
      "(26, 'Food Mahal Cafe & Restaurant', '', 'Anisabad, Patna', 'Chinese • Italian', '')\n",
      "(27, 'Momo Nation Cafe', '₹700 for two', 'Anisabad, Patna', 'North Indian • Chinese', '4.7')\n",
      "(28, 'Stash Cafe & Gaming Lounge', '₹800 for two', 'Bhagwat Complex, Anisabad, Patna', 'North Indian • Fast Food', '4.2')\n",
      "(29, 'Spice Haven Train Theme Restaurant', '', 'Anisabad, Patna', 'Chinese • North Indian', '')\n",
      "(30, 'Amba Family Restaurant', '₹800 for two', 'Anisabad, Patna', 'Chinese • North Indian', '3.8')\n",
      "(31, 'Chicago Pizza', '₹800 for two', 'Anisabad, Patna', 'Italian • Pizza', '4.7')\n",
      "(32, 'The Bro1', '', 'Anisabad, Patna', 'North Indian • Fast Food', '')\n",
      "(33, 'Pikachu Cafe', '₹700 for two', 'Anisabad, Patna', 'Chinese • Fast Food', '4.6')\n",
      "(34, 'Mutton Mela Cafe & Restaurant', '₹500 for two', 'Khajpura, Patna', 'North Indian • Kebab', '4.9')\n",
      "(35, 'Biryani Grills', '', 'Khajpura, Patna', 'Biryani', '')\n",
      "(36, 'Champaran Meat House', '₹500 for two', 'Anisabad, Patna', 'North Indian • Mughlai', '3.4')\n",
      "(37, 'Top In Town', '₹800 for two', 'Anisabad, Patna', 'Chinese • North Indian', '3.3')\n",
      "(38, 'Jungle Safari', '', 'Khajpura, Patna', 'Chinese • North Indian', '')\n",
      "(39, 'D.Halloween Restro & Cafe', '₹800 for two', 'AT-SK Complex, Anisabad, Patna', 'Mughlai • North Indian', '4.6')\n",
      "(40, 'Patna Darbar', '₹1000 for two', 'Rukanpura, Patna', 'North Indian • Chinese', '4.8')\n",
      "(41, 'The Royal Champaran Meat House', '', 'Shiv Vaibhav Enclave, Anisabad, Patna', 'North Indian • Mughlai', '')\n",
      "(42, 'Hotel Marigold & Restaurant', '₹1000 for two', 'Phulwari Sharif, Patna', 'North Indian • Fast Food', '--')\n",
      "(43, 'Aaharam', '₹800 for two', 'Rukanpura, Patna', 'North Indian • South Indian', '4.5')\n",
      "(44, 'Royal Bliss', '', 'Khajpura, Patna', 'North Indian • Chinese', '')\n",
      "(45, 'Shawarma Hut', '₹400 for two', 'Phulwari Sharif, Patna', 'Arabian • Fast Food', '4')\n",
      "(46, 'The Biryani Queen', '₹500 for two', 'Imarat E Shariah Building, Phulwari Sharif, Patna', 'Chinese • North Indian', '4.2')\n",
      "(47, 'Momo Nation Cafe', '', 'Rukanpura, Patna', 'Fast Food • Chinese', '')\n",
      "(48, 'The Picante', '₹600 for two', 'Anisabad, Patna', 'North Indian • South Indian', '4.7')\n",
      "(49, 'Tulsi', '₹600 for two', 'Patliputra Colony, Patna', 'Chinese • South Indian', '4.1')\n",
      "(50, 'Cafe Gardenia', '', 'Khajpura, Patna', 'Chinese • North Indian', '')\n",
      "(51, 'The Food Island', '₹700 for two', 'Khajpura, Patna', 'Chinese • North Indian', '4.4')\n",
      "(52, 'Eat Plan8', '₹600 for two', 'Adarsh Colony, Patna', 'Chinese • North Indian', '4.9')\n",
      "(53, 'Barbeque Nation', '', 'Bailey Road, Patna', 'North Indian • Chinese', '')\n",
      "(54, 'The Royal Haveli Cafe & Restaurant', '₹700 for two', 'Anisabad, Patna', 'Chinese • North Indian', '4.3')\n",
      "(55, 'The Old Monk Cafe', '₹600 for two', 'Rukanpura, Patna', 'Chinese • North Indian', '4.2')\n",
      "(56, '7th Heaven', '', 'Adarsh Colony, Patna', 'Desserts', '')\n",
      "(57, 'Heaven Spices', '₹600 for two', 'Khajpura, Patna', 'North Indian • Chinese', '4.9')\n",
      "(58, 'Nirula’s', '₹700 for two', 'Tawheed Complex, Rukanpura, Patna', 'Pizza • Fast Food', '4.1')\n",
      "(59, 'Pannalal', '', 'Rukanpura, Patna', 'North Indian', '')\n",
      "(60, 'Rasa Restro & Banquet', '₹1300 for two', 'Khajpura, Patna', 'Chinese • North Indian', '4.6')\n",
      "(61, 'Fried Food Family', '₹800 for two', 'Khajpura, Patna', 'North Indian • South Indian', '4.5')\n",
      "(62, 'The Napples-Amalfi Hotel', '', 'Khajpura, Patna', 'Chinese • Italian', '')\n",
      "(63, 'Dining Delight', '₹600 for two', 'Patliputra Colony, Patna', 'Chinese • North Indian', '4.8')\n",
      "(64, \"Roy's Grand Café\", '₹700 for two', 'Bailey Road, Patna', 'North Indian • Chinese', '4.7')\n",
      "(65, 'Roof Top Cafe', '', 'Bhavsagar Rai Palace, RPS More, Patna', 'Chinese • North Indian', '')\n",
      "(66, \"D' Hoot Cafe & Kitchen\", '₹700 for two', 'Bailey Road, Patna', 'North Indian • Chinese', '4.1')\n",
      "(67, 'The Outhide -Amalfi Hotel', '₹1500 for two', 'Khajpura, Patna', 'North Indian • Chinese', '4.1')\n",
      "(68, 'Calm Street', '', 'Expression Exotica, Danapur, Patna', 'Asian • Continental', '')\n",
      "(69, 'Food Hub', '₹800 for two', 'Bailey Road, Patna', 'North Indian • Chinese', '5')\n",
      "(70, 'The Foodie Mall', '₹700 for two', 'Phulwari Sharif, Patna', 'North Indian • Fast Food', '4.8')\n",
      "(71, 'Cafe 13', '', 'Ams Park, Boring Canal Road, Patna', 'North Indian • Chinese', '')\n",
      "(72, 'The Kumar Inn Food', '₹900 for two', 'Danapur, Patna', 'North Indian • South Indian', '3.6')\n",
      "(73, 'Khadak Singh Da Dhaba', '₹1000 for two', 'Khajpura, Patna', 'North Indian', '4.5')\n",
      "(74, 'Ginni 99 Tasty', '', 'Sri Krishna Puri, Patna', 'Chinese • Fast Food', '')\n",
      "(75, 'Upper Deck Cafe & Restro', '₹700 for two', 'Danapur, Patna', 'North Indian', '4.4')\n",
      "(76, 'La Casa Cafe', '₹1000 for two', 'Boring Canal Road, Patna', 'Continental • North Indian', '4.3')\n",
      "(77, 'Pink Cuisine', '', 'Boring Canal Road, Patna', 'Continental • North Indian', '')\n",
      "(78, 'Dark Delight', '₹600 for two', 'Anandpuri, Patna', 'Chinese • North Indian', '4.6')\n",
      "(79, 'D Hoot Cafe And Kitchen', '₹1200 for two', 'Sri Krishna Puri, Patna', 'Chinese', '3.8')\n",
      "(80, 'Tandooriwala', '', 'Sri Krishna Puri, Patna', 'North Indian • Chinese', '')\n",
      "(81, 'Moodlight Cafe', '₹700 for two', 'Ashoka Tower, Boring Canal Road, Patna', 'Chinese • North Indian', '4.7')\n",
      "(82, 'Vrihi Skydeck', '₹1300 for two', 'Patliputra Colony, Patna', 'Chinese • North Indian', '4.6')\n",
      "(83, 'Namaste Veg Foodies', '', 'Sipara, Patna', 'Chinese • North Indian', '')\n",
      "(84, \"Pie Pizza's\", '₹600 for two', 'Orchid Mall, Boring Canal Road, Patna', 'Italian • Pizza', '3.9')\n",
      "(85, 'Wow! Momo', '₹400 for two', 'Krishna Apartment, Boring Canal Road, Patna', 'Fast Food', '4.2')\n",
      "(86, 'The Atmos 3 - Open Rooftop Restro', '', 'Sri Krishna Puri, Patna', 'North Indian • Chinese', '')\n",
      "(87, 'The Barbecue Company', '₹2000 for two', 'J.P. Complex, Boring Canal Road, Patna', 'North Indian', '4.7')\n",
      "(88, 'The Capetown Cafe', '₹800 for two', 'Patliputra Colony, Patna', 'Italian • Modern Indian', '4.7')\n",
      "(89, 'Mok Mok Brunch', '', 'Anandpuri, Patna', 'Chinese', '')\n",
      "(90, 'Wildfire Restaurant', '₹1200 for two', 'Boring Canal Road, Patna', 'Continental • North Indian', '4.7')\n",
      "(91, 'RR Restaurant & Cafe', '₹800 for two', 'Boring Canal Road, Patna', 'Chinese • North Indian', '4.8')\n",
      "(92, 'City Lights Cafe', '', 'Sri Krishna Puri, Patna', 'Chinese • Continental', '')\n",
      "(93, 'Golden Flavour', '₹1000 for two', 'Orchid Mall, Boring Canal Road, Patna', 'Chinese • North Indian', '3.8')\n",
      "(94, 'Wow! China', '₹900 for two', 'Krishna Apartment, Boring Canal Road, Patna', 'Chinese • Asian', '4.2')\n",
      "(95, 'Naushijaan', '', 'Boring Canal Road, Patna', 'North Indian • Awadhi', '')\n",
      "(96, 'Craft Coffee', '₹800 for two', 'Sri Krishna Puri, Patna', 'Italian • Beverages', '4.7')\n",
      "(97, \"Biryani @ Dry N' Fry\", '₹700 for two', 'Sri Krishna Puri, Patna', 'North Indian • Fast Food', '3.7')\n",
      "(98, 'The Bizz Cafe & Restro', '', 'Boring Canal Road, Patna', 'Continental • North Indian', '')\n",
      "(99, 'Dosa House', '₹300 for two', 'Goyal House, Patliputra Colony, Patna', 'South Indian', '4.4')\n",
      "(100, 'Swaaddesh', '₹800 for two', 'Chandra Complex, Boring Canal Road, Patna', 'Chinese • North Indian', '4.1')\n",
      "(101, 'The Royal Andhra', '', 'Kidwaipuri, Patna', 'Andhra • South Indian', '')\n",
      "(102, '7th Heaven', '₹800 for two', 'Ashoka Tower, Boring Canal Road, Patna', 'Desserts', '3.9')\n",
      "(103, 'Ambrosia Multicuisine', '₹1200 for two', 'The Red Velvet Hotel, Bailey Road, Patna', 'Continental • North Indian', '4.8')\n",
      "(104, 'THE FOOD MANIA', '', 'Rukanpura, Patna', 'Chinese • North Indian', '')\n",
      "(105, 'Caelum Restro', '₹1000 for two', 'Kaliket Nagar, Patna', 'Chinese • North Indian', '4.4')\n",
      "(106, 'Chauka', '₹500 for two', 'Boring Canal Road, Patna', 'Bihari • North Indian', '4')\n",
      "(107, 'Silver Bowl', '', 'Sharda Tower, Rajeev Nagar, Patna', 'Chinese • North Indian', '')\n",
      "(108, 'Stratosphere', '₹800 for two', 'Boring Canal Road, Patna', 'North Indian • Chinese', '4.8')\n",
      "(109, \"Harilal'S\", '₹600 for two', 'Sri Krishna Puri, Patna', 'Continental • North Indian', '4.2')\n",
      "(110, 'Hotel Carolina', '', 'Patliputra Colony, Patna', 'Chinese • North Indian', '')\n",
      "(111, 'Royal Thali', '₹600 for two', 'RPS More, Patna', 'North Indian • Chinese', '4.9')\n",
      "(112, 'Marwari Basa', '₹300 for two', 'Goyal House, Patliputra Colony, Patna', 'North Indian', '3.5')\n",
      "(113, 'Cinema Cafe', '', 'R C Western Mall, RPS More, Patna', 'North Indian • Chinese', '')\n",
      "(114, 'Cafe Unplugged', '₹800 for two', 'Ams Park, Boring Canal Road, Patna', 'Chinese • North Indian', '4.1')\n",
      "(115, 'Hungry Hive Restro and Party Hall', '₹800 for two', 'Saguna More, Patna', 'North Indian • Chinese', '4.6')\n",
      "(116, 'Awadhi', '', 'Patliputra Colony, Patna', 'North Indian', '')\n",
      "(117, 'The Chocolate Room', '₹800 for two', 'Boring Canal Road, Patna', 'Desserts • Italian', '3.8')\n",
      "(118, 'Imperial Biryani', '₹600 for two', 'Shri Krishna Puram, Patna', 'North Indian • Chinese', '5')\n",
      "(119, \"D'Spicy Club Restaurant\", '', 'Danapur, Patna', 'North Indian', '')\n",
      "(120, 'Castabill', '₹500 for two', 'Patliputra Colony, Patna', 'Fast Food', '4.4')\n",
      "(121, 'Bauji Cafe', '₹600 for two', 'Sipara, Patna', 'North Indian • Fast Food', '4.3')\n",
      "(122, 'B-Bowl', '', 'Kidwaipuri, Patna', 'South Indian • Biryani', '')\n",
      "(123, 'Kurry Tales', '₹500 for two', 'Patliputra Colony, Patna', 'Chinese • North Indian', '4.7')\n",
      "(124, 'Cafe Pikkuli', '₹800 for two', 'Sri Krishna Puri, Patna', 'Chinese • North Indian', '4.1')\n",
      "(125, 'KiKi On The Roof', '', 'Fraser Road Area, Patna', 'Chinese • Pasta', '')\n",
      "(126, 'Eat & Treat Family Restaurant', '₹500 for two', 'FabHotel Vinayaka, Rajeev Nagar, Patna', 'Mughlai • North Indian', '3.7')\n",
      "(127, 'Hot Grills', '₹800 for two', 'Boring Canal Road, Patna', 'Chinese • North Indian', '3.8')\n",
      "(128, 'CookBook Cafe', '', 'Patliputra Colony, Patna', 'Italian • North Indian', '')\n",
      "(129, 'Waffcha', '₹600 for two', 'Jagdish Lok Apartment, Boring Canal Road, Patna', 'Desserts • Beverages', '4.3')\n",
      "(130, 'The Boring Cafe', '₹1000 for two', 'Nath Tower, Boring Canal Road, Patna', 'Asian • Continental', '4.1')\n",
      "(131, 'Oven Story Pizza', '', 'VM Complex, Saguna More, Patna', 'Italian • Pizza', '')\n",
      "(132, 'Pokket Cafe', '₹600 for two', 'Shyama Arcade, Bailey Road, Patna', 'Continental • Italian', '4.2')\n",
      "(133, 'Fiesta by Barbeque Nation', '₹1400 for two', 'KP Mall, Fraser Road Area, Patna', 'North Indian • Grill', '4.7')\n",
      "(134, 'MRCB Hyderabad Biryani By Ichha Purti', '', 'Anandpuri, Patna', 'North Indian', '')\n",
      "(135, 'Cafe Skylite', '₹1500 for two', 'KV Complex, Bailey Road, Patna', 'Chinese • North Indian', '4.8')\n",
      "(136, 'FFC', '₹600 for two', 'Ams Park, Boring Canal Road, Patna', 'North Indian', '4.7')\n",
      "(137, 'Achal Restaurant & Banquet & Cafe', '', 'Ams Park, Boring Canal Road, Patna', 'North Indian • Fast Food', '')\n",
      "(138, 'LAKHU DA DHABA', '₹650 for two', 'Pragati Tower, Saguna More, Patna', 'Chinese • North Indian', '4.3')\n",
      "(139, 'Samsara Multicusine Restaurant Banquet & Gamezone', '₹800 for two', 'Patliputra colony, Patna', 'North Indian • Chinese', '4.9')\n",
      "(140, 'Impression Hotel', '', 'Saguna More, Patna', 'Chinese • North Indian', '')\n",
      "(141, 'Roti', '₹1200 for two', 'Boring Canal Road, Patna', 'Mughlai • North Indian', '3.8')\n",
      "(142, 'Flavors (Restro | Cafe | Lounge)', '₹2000 for two', 'Patliputra Colony, Patna', 'Chinese • North Indian', '4.2')\n",
      "(143, 'Amrapali Cafe', '', 'R Block, Patna', 'Chinese • North Indian', '')\n",
      "(144, 'Bihari Baithak', '₹1000 for two', 'R C Western Mall, RPS More, Patna', 'Chinese • North Indian', '4.8')\n",
      "(145, 'Tangerine', '₹1200 for two', 'Saguna More, Patna', 'Chinese • North Indian', '--')\n",
      "(146, 'Persona', '', 'Patliputra Colony, Patna', 'Continental • North Indian', '')\n",
      "(147, 'Mocktail Restaurant & Cafe', '₹700 for two', 'Saguna More, Patna', 'Chinese • North Indian', '4.5')\n",
      "(148, 'Ocean Edge Cafe & Restaurant', '₹1000 for two', 'Patliputra Colony, Patna', 'Chinese • North Indian', '4.7')\n",
      "(149, 'Fashion TV Cafe & Restro', '', 'Patliputra Colony, Patna', 'Continental • North Indian', '')\n",
      "(150, 'Barbeque Nation', '₹1800 for two', 'Patna One Plaza, Fraser Road Area, Patna', 'North Indian • Chinese', '4.4')\n",
      "(151, 'Pegasus Restaurant & Cafe', '₹800 for two', 'Danapur, Patna', 'Chinese • North Indian', '5')\n",
      "(152, 'The Grindhouse By Cafe 13', '', 'Kankarbagh, Patna', 'North Indian • Chinese', '')\n",
      "(153, 'Vasa Cafe & Lounge', '₹1000 for two', 'Boring Canal Road, Patna', 'North Indian • Chinese', '3.9')\n",
      "(154, 'Foresto Paradise the Bistro', '₹1000 for two', 'Boring Canal Road, Patna', 'Continental • North Indian', '4.5')\n",
      "(155, 'Ankur Restaurant', '', 'Shakti Complex, Shakti Complex, Boring Road, Patna', 'Chinese • North Indian', '')\n",
      "(156, \"Harilal's\", '₹700 for two', 'RPS More, Patna', 'North Indian • South Indian', '--')\n",
      "(157, \"AB's - Absolute Barbecues\", '₹1550 for two', 'Patna Central Mall, Fraser Road Area, Patna', 'BBQ • North Indian', '4.2')\n",
      "(158, 'Lunch Bunch', '', 'Shumbha Complex, Boring Canal Road, Patna', 'North Indian • South Indian', '')\n",
      "(159, 'Downtown Pizza', '₹700 for two', 'Pragati Tower, Saguna More, Patna', 'Pizza • Fast Food', '4.7')\n",
      "(160, 'Heden Cafe', '₹600 for two', 'Srikrishnapuri, Patna', 'Chinese • Continental', '4.9')\n",
      "(161, 'Cafe 11 to 11', '', 'Phulwari Sharif, Patna', 'Chinese • Momos', '')\n",
      "(162, 'Chicago Pizza', '₹400 for two', 'Pragati Tower, Patna', 'American • Pizza', '--')\n",
      "(163, 'PEP', '₹600 for two', 'Patliputra Colony, Patna', 'Chinese • North Indian', '--')\n",
      "(164, '7th Heaven', '', 'Hira Panna Arcade, Patliputra Colony, Patna', 'Desserts', '')\n",
      "(165, 'Biryani By Kilo', '₹800 for two', 'Patliputra Colony, Patna', 'Biryani • Mughlai', '3.8')\n",
      "(166, \"Harilal'S\", '₹600 for two', 'Kankarbagh, Patna', 'Chinese • North Indian', '4.2')\n",
      "(167, 'The Disc 1947', '', 'Rajeev Nagar, Patna', 'Chinese • North Indian', '')\n",
      "(168, 'Cross Roads Cafe And Lounge', '₹800 for two', 'RPS More, Patna', 'Continental • North Indian', '4.5')\n",
      "(169, 'Bollywood Treats', '₹1300 for two', 'Sagna More, Patna', 'Chinese • North Indian', '3.8')\n",
      "(170, 'Patna Biryani', '', 'R C Western Mall, RPS More, Patna', 'Biryani • North Indian', '')\n",
      "(171, 'The Palacia', '₹500 for two', 'Danapur, Patna', 'North Indian • Chinese', '4.7')\n",
      "(172, \"Kapil Dev's Elevens\", '₹800 for two', 'Ankit Chandradeep Complex, Fraser Road Area, Patna', 'Mughlai • North Indian', '4.2')\n",
      "(173, 'Pannalal', '', 'Kankarbagh, Patna', 'North Indian', '')\n",
      "(174, 'The Chocolate Room', '₹1000 for two', 'RC Western Mall, Danapur, Patna', 'Desserts • Italian', '4.2')\n",
      "(175, \"Harilal's\", '₹700 for two', 'Fraser Road Area, Patna', 'North Indian • South Indian', '3.7')\n",
      "(176, 'Austaara', '', 'Boring Canal Road, Patna', 'North Indian • South Indian', '')\n",
      "(177, 'Proso Pyare', '₹1200 for two', 'Danapur, Patna', 'North Indian • Chinese', '--')\n",
      "(178, 'Galangal Grill-Hotel Gargee Grand', '₹2000 for two', 'Exhibition Road, Patna', 'North Indian', '4.1')\n",
      "(179, 'Hello Restaurant & Cafe', '', 'Boring Canal Road, Patna', 'Chinese • North Indian', '')\n",
      "(180, 'Bay Leaf multicuisine restaurant', '₹1000 for two', 'Saguna More, Patna', 'Chinese • North Indian', '5')\n",
      "(181, 'Cafe Pikkuli', '₹800 for two', 'Hanuman Nagar, Patna', 'Chinese • North Indian', '3.9')\n",
      "(182, 'Fat Tiger', '', 'Patliputra Colony, Patna', 'Fast Food • Burger', '')\n",
      "(183, '53 Cafe House', '₹500 for two', 'Patliputra Colony, Patna', 'Chinese • North Indian', '4.2')\n",
      "(184, 'The Hallwoween Cafe & Restaurant', '₹800 for two', 'Kaliket Nagar, Patna', 'North Indian • Chinese', '4.6')\n",
      "(185, 'Ten 11 Gold', '', 'Boring Canal Road, Patna', 'Chinese • North Indian', '')\n",
      "(186, 'Patna Rasoi', '₹700 for two', 'Fraser Road Area, Patna', 'North Indian • Fast Food', '3.9')\n",
      "(187, 'TEN TO TEN Family Restaurant', '₹700 for two', 'Sipara, Patna', 'Chinese • North Indian', '3.8')\n",
      "(188, 'Pind Balluchi', '', 'Kaliket Nagar, Patna', 'North Indian', '')\n",
      "(189, 'The 7th Sense Cafe', '₹800 for two', 'Danapur, Patna', 'North Indian • Asian', '4.5')\n",
      "(190, '53 Cafe House', '₹500 for two', 'Lodipur, Patna', 'North Indian • Mughlai', '4.2')\n",
      "(191, 'Fry Nation Restaurant & Cafe', '', 'Sipara, Patna', 'North Indian • Chinese', '')\n",
      "(192, 'Cafe Infinity', '₹1200 for two', 'Lodipur, Patna', 'North Indian • American', '4.4')\n",
      "(193, 'Cafe Oasis', '₹1000 for two', 'Khagaul, Patna', 'Chinese • North Indian', '--')\n",
      "(194, 'Empyrean Bistro', '', 'Khajpura, Patna', 'North Indian • Chinese', '')\n",
      "(195, 'Biryani Boat', '₹1300 for two', 'Boring Canal Road, Patna', 'North Indian • Italian', '4.4')\n",
      "(196, 'The Royal Jail Restro', '₹700 for two', 'Saguna More, Patna', 'Chinese • North Indian', '4.4')\n",
      "(197, 'The Limelight Cafe', '', 'Patliputra Colony, Patna', 'Continental • North Indian', '')\n",
      "(198, 'Cafe Delight', '₹500 for two', 'V. M. Complex, Saguna More, Patna', 'North Indian • Chinese', '3.9')\n",
      "(199, 'The Magic Castle', '₹800 for two', 'Saguna More, Patna', 'Chinese • North Indian', '4.5')\n",
      "(200, 'Bayleaf Multicuisine Restaurant', '', 'Saguna More, Patna', 'Chinese • North Indian', '')\n",
      "(201, 'Seven Spices-The Red Velvet Hotel Samarpan', '₹1000 for two', 'The Red Velvet Hotel, Bailey Road, Patna', 'Chinese • North Indian', '4.6')\n",
      "(202, 'Buddha Heritage', '₹900 for two', 'Patliputra Colony, Patna', 'North Indian • South Indian', '4')\n",
      "(203, 'Aasman', '', 'Nutan Plaza, Fraser Road Area, Patna', 'Continental • North Indian', '')\n",
      "(204, 'Club 70 Restaurant', '₹700 for two', 'Pal Shatabdi Mall, Saguna More, Patna', 'Chinese • North Indian', '4')\n",
      "(205, 'Grill World', '₹600 for two', 'Pal Shatabdi Mall, Saguna More, Patna', 'North Indian • Chinese', '4.9')\n",
      "(206, 'Ten 11 Grand', '', 'Pal Shatabdi Mall, Saguna More, Patna', 'Chinese • North Indian', '')\n",
      "(207, \"Shantilal's\", '₹700 for two', 'Kaliket Nagar, Patna', 'North Indian • South Indian', '4.3')\n",
      "(208, 'Ram Babu Hotel And Restaurant', '₹600 for two', 'Kankarbagh, Patna', 'Chinese • North Indian', '3.9')\n",
      "(209, 'Kabab Factory (Hotel Golden Palm Inn )', '', 'Khajpura, Patna', 'North Indian • Pasta', '')\n",
      "(210, 'Mamta - Food Plaza Banquet & Bakery', '₹800 for two', 'Pal Shatabdi Mall, Saguna More, Patna', 'Chinese • North Indian', '3.8')\n",
      "(211, 'Alina Resort', '₹1300 for two', 'Maharaja Kameshwar Complex, Fraser Road Area, Patna', 'Chinese • North Indian', '4.4')\n",
      "(212, 'The Pulp', '', 'Mithapur, Patna', 'Continental • Burger', '')\n",
      "(213, 'The Bonkers Cafe', '₹600 for two', 'Fraser Road Area, Patna', 'North Indian • Chinese', '4.1')\n",
      "(214, 'Afraa', '₹1000 for two', 'City Centre Mall, Lodipur, Patna', 'Continental • North Indian', '4.1')\n",
      "(215, 'New Hungry Hope', '', 'Rukanpura, Patna', 'Chinese • Biryani', '')\n",
      "(216, 'Craft Coffee', '₹800 for two', 'Patna Central Mall, Lodipur, Patna', 'Continental • Italian', '4.7')\n",
      "(217, 'Biryani By Kilo', '₹800 for two', 'Anisabad, Patna', 'North Indian • Biryani', '3.5')\n",
      "(218, 'Barkaas - Indo Arabic Restaurant', '', 'Fraser Road Area, Patna', 'Chinese • North Indian', '')\n",
      "(219, 'Cafe Hideout', '₹700 for two', 'Patliputra Colony, Patna', 'Continental • Burger', '--')\n",
      "(220, \"Loafer's Cafe\", '₹600 for two', 'City Centre Mall, Lodipur, Patna', 'Beverages • Fast Food', '4')\n",
      "(221, 'Wow! Momo', '', 'Patna Central Mall, Fraser Road Area, Patna', 'Fast Food', '')\n",
      "(222, 'The Royal Chilli', '₹2000 for two', 'Fraser Road Area, Patna', 'North Indian', '4.7')\n",
      "(223, 'Sujata Fmaily Restaurant', '₹600 for two', 'Hotel Mayur, Fraser Road Area, Patna', 'Chinese • North Indian', '3.7')\n",
      "(224, 'La Clove Cafe & Dining', '', 'Fraser Road Area, Patna', 'Chinese • North Indian', '')\n",
      "(225, 'Afra Tafri Cafe And Restaurant', '₹750 for two', 'Kidwaipuri, Patna', 'Chinese • Continental', '4.3')\n",
      "(226, 'Wow! China', '₹800 for two', 'Patna Central Mall, Fraser Road Area, Patna', 'Chinese • Asian', '4')\n",
      "(227, 'The Imperial Tea Garden', '', 'Fraser Road Area, Patna', 'Chinese • North Indian', '')\n",
      "(228, 'Patna Da Dhaba', '₹700 for two', 'Grand Plaza, Fraser Road Area, Patna', 'Chinese • North Indian', '4.7')\n",
      "(229, 'The Rooftop Cafe', '₹700 for two', 'Fraser Road Area, Patna', 'Chinese • North Indian', '4')\n",
      "(230, 'Wat-A-Burger', '', 'Kankarbagh, Patna', 'Burger • Fast Food', '')\n",
      "(231, 'Syzygium', '₹1000 for two', 'Lodipur, Patna', 'Chinese • North Indian', '4.4')\n",
      "(232, 'Waffcha', '₹400 for two', 'City Centre Mall, Lodipur, Patna', 'Desserts • Beverages', '5')\n",
      "(233, 'Rasoi A Family Restaurant', '', 'Mithapur, Patna', 'Chinese • North Indian', '')\n",
      "(234, 'The Biryani Palace', '₹600 for two', 'Fraser Road Area, Patna', 'Chinese • Mughlai', '4.1')\n",
      "(235, 'Norton Classic', '₹1000 for two', 'Ramkrishan Nagar, Patna', 'North Indian • South Indian', '4.9')\n",
      "(236, 'Mishri', '', 'Indiranagar, Patna', 'North Indian • South Indian', '')\n",
      "(237, 'Pind The Revolving Restaurant', '₹800 for two', 'Fraser Road Area, Patna', 'Mughlai • North Indian', '4')\n",
      "(238, 'Lighthouse Cafe', '₹1200 for two', 'Biscomaun Bhawan, Lodipur, Patna', 'Chinese • North Indian', '4.4')\n",
      "(239, 'Indian Summer Cafe', '', 'Shyam Business Center, Salimpur Ahra, Patna', 'Chinese • North Indian', '')\n",
      "(240, \"Sardarji's Kitchen\", '₹700 for two', 'Fraser Road Area, Patna', 'Chinese • North Indian', '4.2')\n",
      "(241, 'Prime Bite Resto', '₹600 for two', 'Luv Kush Tower, Fraser Road Area, Patna', 'Chinese • North Indian', '4.9')\n",
      "(242, 'SRG The Family Restaurant (Mutton House)', '', 'Housing Board Colony, Kankarbagh, Patna', 'North Indian • Chinese', '')\n",
      "(243, 'LBW', '₹900 for two', 'Exhibition Road, Patna', 'Continental • North Indian', '4.1')\n",
      "(244, 'Cafe Meet Up', '₹600 for two', 'Mithapur, Patna', 'Chinese • North Indian', '5')\n",
      "(245, 'Harilal’s', '', 'Kumhrar, Patna', 'North Indian • South Indian', '')\n",
      "(246, 'Town Hall 29', '₹1000 for two', 'Kankarbagh, Patna', 'North Indian • American', '4.7')\n",
      "(247, 'Rajdarbar', '₹800 for two', 'Exhibition Road, Patna', 'North Indian • Seafood', '3.9')\n",
      "(248, 'Fifth Avenue Bakery & CAFE', '', 'Hotel The Panache, Lodipur, Patna', 'Desserts • North Indian', '')\n",
      "(249, 'Moti Mahal Delux Tandoori Trail', '₹1200 for two', 'SS Tower, Kankarbagh, Patna', 'Chinese • North Indian', '4.4')\n",
      "(250, 'RFS', '₹700 for two', 'Kankarbagh, Patna', 'Chinese • North Indian', '4.4')\n",
      "(251, 'Step Up Cafe', '', 'Kankarbagh, Patna', 'Chinese • North Indian', '')\n",
      "(252, 'Swad-by New Gaurav Restaurant', '₹1500 for two', 'Hotel Vijay Shree, Fraser Road Area, Patna', 'North Indian • South Indian', '3.7')\n",
      "(253, 'Kebab Theatre', '₹1800 for two', 'Lemon Tree Premier, Exhibition Road, Patna', 'Middle Eastern • North Indian', '--')\n",
      "(254, 'Alfresco Rooftop', '', 'Exhibition Road, Patna', 'Chinese • North Indian', '')\n",
      "(255, 'Citrus Cafe', '₹1500 for two', 'Exhibition Road, Patna', 'Italian • North Indian', '4.1')\n",
      "(256, 'Gandhali Restaurant -Hotel Gargee Grand', '₹1000 for two', 'Exhibition Road, Patna', 'Italian • North Indian', '4.1')\n",
      "(257, 'Indie Kulture', '', 'Kankarbagh, Patna', 'Continental • North Indian', '')\n",
      "(258, 'Cafe Hideout', '₹700 for two', 'Kankarbagh, Patna', 'Continental • Chinese', '4.7')\n",
      "(259, 'Sanmit', '₹1000 for two', 'Samrat Ashok Convention Kendra, Lodipur, Patna', 'Chinese • North Indian', '4.2')\n",
      "(260, 'TOB - The Only Burger', '', 'Kankarbagh, Patna', 'Burger • Fast Food', '')\n",
      "(261, 'The Soda Fountain & Milk Bar', '₹600 for two', 'Lodipur, Patna', 'South Indian • North Indian', '3.6')\n",
      "(262, 'Swad-E-dawat', '₹600 for two', 'Kankarbagh, Patna', 'North Indian • Fast Food', '4.8')\n",
      "(263, 'Unplugged Dineout', '', 'Kadamkuan, Patna', 'Chinese • North Indian', '')\n",
      "(264, '7th Heaven', '₹500 for two', 'Kankarbagh, Patna', 'Desserts', '3.8')\n",
      "(265, \"Berco's - If You Love Chinese\", '₹1200 for two', 'Fraser Road Area, Patna', 'Chinese • Thai', '4')\n",
      "(266, 'Om Vihar', '', 'Kadamkuan, Patna', 'Chinese • North Indian', '')\n",
      "(267, 'Tandoor Hut', '₹450 for two', 'Kankarbagh , Patna', 'Mughlai • North Indian', '3.9')\n",
      "(268, 'The Downtown Cafe', '₹800 for two', 'Indiranagar, Patna', 'Chinese • North Indian', '4.1')\n",
      "(269, \"The Pacifique - Café & Lounge'\", '', 'Housing Board Colony, Kankarbagh, Patna', 'North Indian • Oriental', '')\n",
      "(270, 'The Farmhouse Cafe', '₹600 for two', 'Kankarbagh, Patna', 'North Indian • Pizza', '4.1')\n",
      "(271, 'Cafe Zodiac', '₹350 for two', 'Kankarbagh, Patna', 'North Indian • Chinese', '4.9')\n",
      "(272, 'Waffcha', '', 'Kankarbagh, Patna', 'European', '')\n",
      "(273, 'Cafe Hideout', '₹600 for two', 'Srikrishnapuri, Patna', 'Continental • Burger', '4.5')\n",
      "(274, 'Mr Cafe', '₹900 for two', 'Rajendra Nagar, Patna', 'Chinese • North Indian', '--')\n",
      "(275, 'Bhagirithi Vihar I F C', '', 'Kankarbagh, Patna', 'North Indian • Chinese', '')\n",
      "(276, 'Mungerilal Dreams Restaurant', '₹800 for two', 'Kankarbagh, Patna', 'Chinese • North Indian', '4.3')\n",
      "(277, 'GTR ( Garam Tandoori Rasoi )', '₹450 for two', 'Kankarbagh, Patna', 'North Indian • Chinese', '--')\n",
      "(278, 'ChaiApps', '', 'Rajendra Nagar, Patna', 'Beverages • Fast Food', '')\n",
      "(279, 'Seven Pipers-By Orange Inn', '₹900 for two', 'Hotel Orange Inn, Kankarbagh, Patna', 'Chinese • North Indian', '3.3')\n",
      "(280, 'Buddha Restaurant & Cafe', '₹700 for two', 'Phulwari Sharif, Patna', 'Chinese • North Indian', '4.7')\n",
      "(281, 'Wow! Momo', '', 'Rajendra Nagar, Patna', 'Fast Food • Momos', '')\n",
      "(282, 'Restaurant 357', '₹600 for two', 'Kankarbagh, Patna', 'Chinese • North Indian', '4.9')\n",
      "(283, 'The Chocolate Room', '₹1000 for two', 'Kankarbagh, Patna', 'Beverages • Desserts', '4.3')\n",
      "(284, 'Kingdom of Momos', '', 'Kankarbagh , Patna', 'Chinese • Burger', '')\n",
      "(285, 'Roti Boti', '₹500 for two', 'Kankarbagh, Patna', 'Chinese • North Indian', '3.7')\n",
      "(286, 'Garage Kitchen', '₹1000 for two', 'Kankarbagh, Patna', 'American • Italian', '4.5')\n",
      "(287, 'Spice Odyssey', '', 'Kankarbagh, Patna', 'North Indian • Chinese', '')\n",
      "(288, 'Chicago Pizza', '₹300 for two', 'Bhagwat Nagar, Patna', 'Fast Food • Pasta', '4.7')\n",
      "(289, 'Variety Inn', '₹700 for two', 'Rajendra Nagar, Patna', 'Italian • North Indian', '3.8')\n",
      "(290, 'Biryani Charminar', '', 'Rajendra Nagar, Patna', 'North Indian • Chinese', '')\n",
      "(291, 'Indian Masala House', '₹600 for two', 'Bajrangpuri, Patna', 'North Indian • Chinese', '5')\n",
      "(292, 'Cafe Hideout', '₹600 for two', 'Bakarganj, Patna', 'Continental • Chinese', '4.6')\n",
      "(293, 'Chicago Pizza', '', 'Ranipur, Patna', 'Italian • Fast Food', '')\n",
      "(294, \"Young's Hub Cafe\", '₹600 for two', 'Marufganj, Patna', 'North Indian • Pasta', '--')\n",
      "(295, 'Terrace Grill', '₹1000 for two', 'Boring Canal Road, Patna', 'Italian • North Indian', '--')\n",
      "(296, 'Food Xpress', '', 'Adalatganj, Patna', 'North Indian • South Indian', '')\n",
      "(297, 'Rock House', '₹1300 for two', 'Boring Canal Road, Patna', 'Chinese • North Indian', '4.5')\n"
     ]
    }
   ],
   "source": [
    "querry = \"SELECT * FROM Swiggy\"\n",
    "cursor.execute(querry)\n",
    "rows = cursor.fetchall()\n",
    "for row in rows:\n",
    "    print(row)"
   ]
  },
  {
   "cell_type": "code",
   "execution_count": 53,
   "metadata": {},
   "outputs": [
    {
     "data": {
      "text/plain": [
       "True"
      ]
     },
     "execution_count": 53,
     "metadata": {},
     "output_type": "execute_result"
    }
   ],
   "source": [
    "cursor.close()"
   ]
  },
  {
   "cell_type": "code",
   "execution_count": 54,
   "metadata": {},
   "outputs": [],
   "source": [
    "conn.close()"
   ]
  }
 ],
 "metadata": {
  "kernelspec": {
   "display_name": "Python 3",
   "language": "python",
   "name": "python3"
  },
  "language_info": {
   "codemirror_mode": {
    "name": "ipython",
    "version": 3
   },
   "file_extension": ".py",
   "mimetype": "text/x-python",
   "name": "python",
   "nbconvert_exporter": "python",
   "pygments_lexer": "ipython3",
   "version": "3.12.4"
  }
 },
 "nbformat": 4,
 "nbformat_minor": 2
}
